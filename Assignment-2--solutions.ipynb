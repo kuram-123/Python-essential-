{
 "cells": [
  {
   "cell_type": "code",
   "execution_count": 4,
   "metadata": {
    "scrolled": true
   },
   "outputs": [
    {
     "name": "stdout",
     "output_type": "stream",
     "text": [
      "given list: [1, 3, 5, 6, 3, 5, 6, 1]\n",
      "The list after removing duplicates :  [1, 3, 5, 6]\n"
     ]
    }
   ],
   "source": [
    "# 1.Write a Python program to remove duplicates from a list\n",
    "list1 = [1, 3, 5, 6, 3, 5, 6, 1] \n",
    "print (\"given list:\",list1) \n",
    "res = [] \n",
    "for i in list1: \n",
    "    if i not in res: \n",
    "        res.append(i) \n",
    "print (\"The list after removing duplicates : \",str(res)) "
   ]
  },
  {
   "cell_type": "code",
   "execution_count": 10,
   "metadata": {},
   "outputs": [
    {
     "name": "stdout",
     "output_type": "stream",
     "text": [
      "Difference between two list is: {10, 20, 30, 15}\n"
     ]
    }
   ],
   "source": [
    "#2.Write a Python program to get the difference between the two lists\n",
    "def diff(a,b):\n",
    "    return(set(a)-set(b))\n",
    "a = [10, 15, 20, 25, 30, 35, 40]\n",
    "b = [25, 40, 35]\n",
    "print(\"Difference between two list is:\",diff(a,b))"
   ]
  },
  {
   "cell_type": "code",
   "execution_count": 11,
   "metadata": {},
   "outputs": [
    {
     "name": "stdout",
     "output_type": "stream",
     "text": [
      "Counter({1: 4, 2: 4, 3: 2, 5: 2, 4: 1}) "
     ]
    }
   ],
   "source": [
    "#3.Write a Python program to get the frequency of the elements in a list\n",
    "import collections\n",
    "a = [1,1,1,1,2,2,2,2,3,3,4,5,5]\n",
    "counter=collections.Counter(a)\n",
    "print(counter,end=\" \")"
   ]
  },
  {
   "cell_type": "code",
   "execution_count": 15,
   "metadata": {},
   "outputs": [
    {
     "name": "stdout",
     "output_type": "stream",
     "text": [
      "color1-color2: {'white', 'orange', 'red'}\n",
      "color2-color1: {'black', 'yellow'}\n"
     ]
    }
   ],
   "source": [
    "#4.Write a Python program to compute the similarity between two lists.\n",
    "def diff(color1,color2):\n",
    "    return(set(color1)-set(color2))\n",
    "color1=[\"red\",\"orange\",\"green\",\"blue\",\"white\"]\n",
    "color2=[\"black\",\"yellow\",\"green\",\"blue\"]\n",
    "print(\"color1-color2:\",diff(color1,color2))\n",
    "print(\"color2-color1:\",diff(color2,color1))"
   ]
  },
  {
   "cell_type": "code",
   "execution_count": 59,
   "metadata": {},
   "outputs": [
    {
     "ename": "IndexError",
     "evalue": "list index out of range",
     "output_type": "error",
     "traceback": [
      "\u001b[1;31m---------------------------------------------------------------------------\u001b[0m",
      "\u001b[1;31mIndexError\u001b[0m                                Traceback (most recent call last)",
      "\u001b[1;32m<ipython-input-59-df7f37580d08>\u001b[0m in \u001b[0;36m<module>\u001b[1;34m\u001b[0m\n\u001b[0;32m      6\u001b[0m         \u001b[0mfinalList\u001b[0m\u001b[1;33m.\u001b[0m\u001b[0mappend\u001b[0m\u001b[1;33m(\u001b[0m\u001b[1;33m(\u001b[0m\u001b[0mlen\u001b[0m\u001b[1;33m(\u001b[0m\u001b[0mword\u001b[0m\u001b[1;33m)\u001b[0m\u001b[1;33m,\u001b[0m \u001b[0mwords\u001b[0m\u001b[1;33m)\u001b[0m\u001b[1;33m)\u001b[0m\u001b[1;33m\u001b[0m\u001b[1;33m\u001b[0m\u001b[0m\n\u001b[0;32m      7\u001b[0m         \u001b[0mfinalList\u001b[0m\u001b[1;33m.\u001b[0m\u001b[0msort\u001b[0m\u001b[1;33m(\u001b[0m\u001b[1;33m)\u001b[0m\u001b[1;33m\u001b[0m\u001b[1;33m\u001b[0m\u001b[0m\n\u001b[1;32m----> 8\u001b[1;33m \u001b[0mprint\u001b[0m\u001b[1;33m(\u001b[0m\u001b[1;34m\"The word with the longest length is:\"\u001b[0m\u001b[1;33m,\u001b[0m \u001b[0mfinalList\u001b[0m\u001b[1;33m[\u001b[0m\u001b[1;33m-\u001b[0m\u001b[1;36m1\u001b[0m\u001b[1;33m]\u001b[0m\u001b[1;33m[\u001b[0m\u001b[1;36m1\u001b[0m\u001b[1;33m]\u001b[0m\u001b[1;33m,\u001b[0m \u001b[1;34m\" and length is \"\u001b[0m\u001b[1;33m,\u001b[0m \u001b[0mlen\u001b[0m\u001b[1;33m(\u001b[0m\u001b[0mfinalList\u001b[0m\u001b[1;33m[\u001b[0m\u001b[1;33m-\u001b[0m\u001b[1;36m1\u001b[0m\u001b[1;33m]\u001b[0m\u001b[1;33m[\u001b[0m\u001b[1;36m1\u001b[0m\u001b[1;33m]\u001b[0m\u001b[1;33m)\u001b[0m\u001b[1;33m)\u001b[0m\u001b[1;33m\u001b[0m\u001b[1;33m\u001b[0m\u001b[0m\n\u001b[0m\u001b[0;32m      9\u001b[0m \u001b[0mprint\u001b[0m\u001b[1;33m(\u001b[0m\u001b[0mlongestLength\u001b[0m\u001b[1;33m(\u001b[0m\u001b[0mwords\u001b[0m\u001b[1;33m)\u001b[0m\u001b[1;33m)\u001b[0m\u001b[1;33m\u001b[0m\u001b[1;33m\u001b[0m\u001b[0m\n",
      "\u001b[1;31mIndexError\u001b[0m: list index out of range"
     ]
    }
   ],
   "source": [
    "#5.Write a Python function that takes a list of words and returns the length of the longest one\n",
    "def longestLength(words): \n",
    "    a =[\"one\", \"two\", \"third\", \"four\"] \n",
    "    finalList = [] \n",
    "    for word in words: \n",
    "        finalList.append((len(word), words)) \n",
    "        finalList.sort() \n",
    "print(\"The word with the longest length is:\", finalList[-1][1], \" and length is \", len(finalList[-1][1])) \n",
    "print(longestLength(words)) "
   ]
  },
  {
   "cell_type": "code",
   "execution_count": 18,
   "metadata": {},
   "outputs": [
    {
     "name": "stdout",
     "output_type": "stream",
     "text": [
      "Counter({'apple': 2, 'ball': 2}) "
     ]
    }
   ],
   "source": [
    "#6.Write a Python program to count the occurrences of each word in a given sentence\n",
    "import collections\n",
    "a = [\"apple\",\"ball\",\"apple\",\"ball\"]\n",
    "counter=collections.Counter(a)\n",
    "print(counter,end=\" \")"
   ]
  },
  {
   "cell_type": "code",
   "execution_count": 19,
   "metadata": {},
   "outputs": [
    {
     "name": "stdout",
     "output_type": "stream",
     "text": [
      "Enter string:Kuram Naveen kumar\n",
      "Number of vowels are:\n",
      "7\n"
     ]
    }
   ],
   "source": [
    "#7.Write a Python program to count and display the vowels of a given text\n",
    "string=input(\"Enter string:\")\n",
    "vowels=0\n",
    "for i in string:\n",
    "      if(i=='a' or i=='e' or i=='i' or i=='o' or i=='u' or i=='A' or i=='E' or i=='I' or i=='O' or i=='U'):\n",
    "            vowels=vowels+1\n",
    "print(\"Number of vowels are:\")\n",
    "print(vowels)"
   ]
  },
  {
   "cell_type": "code",
   "execution_count": 20,
   "metadata": {},
   "outputs": [
    {
     "name": "stdout",
     "output_type": "stream",
     "text": [
      "{0: 0, 1: 1, 2: 4, 3: 9, 4: 16}\n"
     ]
    }
   ],
   "source": [
    "#8.Write a Python script to generate and print a dictionary that contains a number (between 1 and n)in the form (x, x*x)\n",
    "squares = {}\n",
    "\n",
    "for x in range(5):\n",
    "    squares[x] = x*x\n",
    "print(squares)"
   ]
  },
  {
   "cell_type": "code",
   "execution_count": 21,
   "metadata": {},
   "outputs": [
    {
     "name": "stdout",
     "output_type": "stream",
     "text": [
      "{'b': 400, 'a': 200, 'c': 300, 'd': 300}\n"
     ]
    }
   ],
   "source": [
    "#9.Write a Python program to combine two dictionary adding values for common keys\n",
    "dict1 = {'a':100,'b':200,'c':300}\n",
    "dict2 = {'a':100,'b':200,'d':300}\n",
    "result = {key: dict1.get(key, 0) + dict2.get(key, 0)\n",
    "          for key in set(dict1) | set(dict2)}\n",
    "print(result)"
   ]
  },
  {
   "cell_type": "code",
   "execution_count": 23,
   "metadata": {},
   "outputs": [
    {
     "name": "stdout",
     "output_type": "stream",
     "text": [
      "the unique values from 1st list is\n",
      "{'V': 'S001'}\n",
      "{'V': 'S002'}\n",
      "{'VI': 'S001'}\n",
      "{'VI': 'S005'}\n",
      "{'VII': 'S005'}\n",
      "{'V': 'S009'}\n",
      "{'VIII': 'S007'}\n"
     ]
    }
   ],
   "source": [
    "#10.Write a Python program to print all unique values in a dictionary\n",
    "\n",
    "def unique(list1): \n",
    "    unique_list = [] \n",
    "       \n",
    "    for x in list1:  \n",
    "        if x not in unique_list: \n",
    "            unique_list.append(x)  \n",
    "    for x in unique_list: \n",
    "            print (x) \n",
    "list1 = [{\"V\":\"S001\"}, {\"V\": \"S002\"}, {\"VI\": \"S001\"}, {\"VI\": \"S005\"}, {\"VII\":\"S005\"},{\"V\":\"S009\"},{\"VIII\":\"S007\"}] \n",
    "print(\"the unique values from 1st list is\") \n",
    "unique(list1) \n",
    "  \n",
    "  \n"
   ]
  },
  {
   "cell_type": "code",
   "execution_count": null,
   "metadata": {},
   "outputs": [],
   "source": []
  }
 ],
 "metadata": {
  "kernelspec": {
   "display_name": "Python 3",
   "language": "python",
   "name": "python3"
  },
  "language_info": {
   "codemirror_mode": {
    "name": "ipython",
    "version": 3
   },
   "file_extension": ".py",
   "mimetype": "text/x-python",
   "name": "python",
   "nbconvert_exporter": "python",
   "pygments_lexer": "ipython3",
   "version": "3.8.5"
  }
 },
 "nbformat": 4,
 "nbformat_minor": 4
}
