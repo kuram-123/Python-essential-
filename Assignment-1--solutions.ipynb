{
 "cells": [
  {
   "cell_type": "code",
   "execution_count": 1,
   "metadata": {},
   "outputs": [
    {
     "name": "stdout",
     "output_type": "stream",
     "text": [
      "0.26785714285714285\n"
     ]
    }
   ],
   "source": [
    "x=5\n",
    "y=(2*x+5)/(x**2+5*x+6)\n",
    "print(y)"
   ]
  },
  {
   "cell_type": "code",
   "execution_count": 3,
   "metadata": {},
   "outputs": [
    {
     "name": "stdout",
     "output_type": "stream",
     "text": [
      "3.7333333333333334\n"
     ]
    }
   ],
   "source": [
    "x=5\n",
    "y=(x**2+5*x+6)/(2*x+5)\n",
    "print(y)"
   ]
  },
  {
   "cell_type": "code",
   "execution_count": 4,
   "metadata": {},
   "outputs": [
    {
     "name": "stdout",
     "output_type": "stream",
     "text": [
      "98\n"
     ]
    }
   ],
   "source": [
    "x=5\n",
    "y=(2*x-3)*(x+9)\n",
    "print(y)"
   ]
  },
  {
   "cell_type": "code",
   "execution_count": 7,
   "metadata": {},
   "outputs": [
    {
     "name": "stdout",
     "output_type": "stream",
     "text": [
      "enter a username:dsea\n",
      "your username is incorrect,Please dont ask the password again\n",
      "enter a username:INDIA\n",
      "your username is correct\n",
      "enter the password:ewe\n",
      "your password is incorrect,please  try again\n",
      "enter the password:IND\n",
      "your are login successfully\n"
     ]
    }
   ],
   "source": [
    " username=\"INDIA\"\n",
    "password=\"IND\"\n",
    "userInput=input(\"enter a username:\")\n",
    "while userInput!=username:\n",
    "    print(\"your username is incorrect,Please dont ask the password again\")\n",
    "    userInput=input(\"enter a username:\")\n",
    "if userInput==username:\n",
    "    print(\"your username is correct\")\n",
    "a=input(\"enter the password:\")\n",
    "while a!=password:\n",
    "    print(\"your password is incorrect,please  try again\")\n",
    "    a=input(\"enter the password:\")\n",
    "if a==password:\n",
    "    print(\"your are login successfully\")\n"
   ]
  },
  {
   "cell_type": "code",
   "execution_count": 9,
   "metadata": {},
   "outputs": [
    {
     "name": "stdout",
     "output_type": "stream",
     "text": [
      "enter a username:sts\n",
      "your username is incorrect,Please dont ask the password again\n",
      "enter a username:INDIA\n",
      "your username is correct\n",
      "enter the password:asa\n",
      "your password is incorrect,you have only 5 attempts to login \n",
      "enter the password:sd\n",
      "your account is blocked is temporarly\n",
      "your password is incorrect,you have only 5 attempts to login \n",
      "enter the password:sadf\n",
      "your account is blocked is temporarly\n",
      "your password is incorrect,you have only 5 attempts to login \n",
      "enter the password:sd\n",
      "your account is blocked is temporarly\n",
      "your password is incorrect,you have only 5 attempts to login \n",
      "enter the password:sdafs\n",
      "your account is blocked is temporarly\n",
      "your password is incorrect,you have only 5 attempts to login \n",
      "enter the password:sd\n",
      "your account is blocked is temporarly\n"
     ]
    }
   ],
   "source": [
    "count=0\n",
    "username=\"INDIA\"\n",
    "password=\"IND\"\n",
    "userInput=input(\"enter a username:\")\n",
    "while userInput!=username:\n",
    "    print(\"your username is incorrect,Please dont ask the password again\")\n",
    "    userInput=input(\"enter a username:\")\n",
    "if userInput==username:\n",
    "    print(\"your username is correct\")\n",
    "a=input(\"enter the password:\")\n",
    "while a!=password and count<=4:\n",
    "    print(\"your password is incorrect,you have only 5 attempts to login \")\n",
    "    a=input(\"enter the password:\")\n",
    "    count+=1\n",
    "    print(\"your account is blocked is temporarly\")\n",
    "if a==password:\n",
    "    print(\"your are login successfully\")"
   ]
  },
  {
   "cell_type": "code",
   "execution_count": 10,
   "metadata": {},
   "outputs": [
    {
     "name": "stdout",
     "output_type": "stream",
     "text": [
      "enter a username:sdff\n",
      "enter the password:sdf\n",
      "enter a username:dfgs\n",
      "enter the password:dfsg\n",
      "enter a username:dfg\n",
      "enter the password:fgd\n",
      "enter a username:dfs\n",
      "enter the password:fdg\n",
      "enter a username:dfg\n",
      "enter the password:f\n",
      "Your account is blocked temperarly for 24hrs\n"
     ]
    }
   ],
   "source": [
    "count=0\n",
    "username= \"INDIA\"\n",
    "password=\"IND\"\n",
    "userInput=input(\"enter a username:\")\n",
    "a=input(\"enter the password:\")\n",
    "while userInput!=username and  a!=password and count<4:\n",
    "    count+=1\n",
    "    userInput=input(\"enter a username:\")\n",
    "    a=input(\"enter the password:\")\n",
    "print(\"Your account is blocked temperarly for 24hrs\")"
   ]
  },
  {
   "cell_type": "code",
   "execution_count": null,
   "metadata": {},
   "outputs": [],
   "source": []
  }
 ],
 "metadata": {
  "kernelspec": {
   "display_name": "Python 3",
   "language": "python",
   "name": "python3"
  },
  "language_info": {
   "codemirror_mode": {
    "name": "ipython",
    "version": 3
   },
   "file_extension": ".py",
   "mimetype": "text/x-python",
   "name": "python",
   "nbconvert_exporter": "python",
   "pygments_lexer": "ipython3",
   "version": "3.8.5"
  }
 },
 "nbformat": 4,
 "nbformat_minor": 4
}
