{
 "cells": [
  {
   "cell_type": "code",
   "execution_count": null,
   "metadata": {},
   "outputs": [],
   "source": [
    "import smtplib  \n",
    "li = [\"naveenkuram96@gmail.com\"] \n",
    "  for dest in li: \n",
    "    s = smtplib.SMTP('smtp.gmail.com', 587) \n",
    "    s.starttls() \n",
    "    s.login(\"kuramnaveen6798@gmail.com\", \"*******\") \n",
    "    message = \"Hello!\"\n",
    "    s.sendmail(\"naveenkuram96@gmail.com\",dest,message) \n",
    "    s.quit() "
   ]
  }
 ],
 "metadata": {
  "kernelspec": {
   "display_name": "Python 3",
   "language": "python",
   "name": "python3"
  },
  "language_info": {
   "codemirror_mode": {
    "name": "ipython",
    "version": 3
   },
   "file_extension": ".py",
   "mimetype": "text/x-python",
   "name": "python",
   "nbconvert_exporter": "python",
   "pygments_lexer": "ipython3",
   "version": "3.8.5"
  }
 },
 "nbformat": 4,
 "nbformat_minor": 4
}
